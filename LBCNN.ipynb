{
 "cells": [
  {
   "cell_type": "code",
   "execution_count": 1,
   "metadata": {
    "collapsed": true
   },
   "outputs": [],
   "source": [
    "# Imports\n",
    "%matplotlib inline\n",
    "from datetime import timedelta\n",
    "from scipy.stats import bernoulli\n",
    "from sklearn.externals import joblib\n",
    "from sklearn.metrics import confusion_matrix\n",
    "import gzip\n",
    "import itertools\n",
    "import matplotlib.pyplot as plt\n",
    "import numpy as np\n",
    "import os\n",
    "import tensorflow as tf\n",
    "import time"
   ]
  },
  {
   "cell_type": "code",
   "execution_count": 2,
   "metadata": {
    "collapsed": true
   },
   "outputs": [],
   "source": [
    "# Dimensions of the data\n",
    "\n",
    "# We know that images are 48 pixels in each dimension\n",
    "in_height = 48\n",
    "in_width = 48\n",
    "\n",
    "# Images are stored in one-dimensional arrays of this length\n",
    "image_size_flat = in_height * in_width\n",
    "\n",
    "# Tuple with height and width of images used to reshape arrays\n",
    "image_shape = (in_height, in_width)\n",
    "\n",
    "# Classes info\n",
    "classes = ['Angry', 'Disgust', 'Fear', 'Happy', 'Sad', 'Surprise', 'Neutral']\n",
    "\n",
    "# Number of classes\n",
    "num_classes = len(classes)\n",
    "\n",
    "# Number of colour channels for the images: 1 channel for gray-scale\n",
    "# Channels mean number of primary colors\n",
    "num_channels = 1"
   ]
  },
  {
   "cell_type": "code",
   "execution_count": 3,
   "metadata": {},
   "outputs": [
    {
     "name": "stdout",
     "output_type": "stream",
     "text": [
      "WARNING:tensorflow:From <ipython-input-3-7d231986c4b3>:14: calling argmax (from tensorflow.python.ops.math_ops) with dimension is deprecated and will be removed in a future version.\n",
      "Instructions for updating:\n",
      "Use the `axis` argument instead\n"
     ]
    }
   ],
   "source": [
    "# Placeholder variables\n",
    "\n",
    "# Placeholder variable for the input images\n",
    "x = tf.placeholder(tf.float32, shape=[None, image_size_flat])\n",
    "\n",
    "# Reshape 'x'\n",
    "x_image = tf.reshape(x, shape=[-1, in_height, in_width, num_channels])\n",
    "\n",
    "# Placeholder variable for the true labels associated with the images\n",
    "y_true = tf.placeholder(tf.float32, shape=[None, num_classes])\n",
    "\n",
    "# We could also have a placeholder variable for the class-number,\n",
    "# but we will instead calculate it using argmax\n",
    "y_true_cls = tf.argmax(y_true, dimension=1)"
   ]
  },
  {
   "cell_type": "code",
   "execution_count": 4,
   "metadata": {
    "collapsed": true
   },
   "outputs": [],
   "source": [
    "# Load Dataset\n",
    "def load_dataset(filename):\n",
    "    upload_file = gzip.open(filename, 'rb')\n",
    "    images_set, labels_set = joblib.load(upload_file)\n",
    "    upload_file.close()\n",
    "\n",
    "    return images_set, labels_set"
   ]
  },
  {
   "cell_type": "code",
   "execution_count": 5,
   "metadata": {
    "collapsed": true
   },
   "outputs": [],
   "source": [
    "# Returns the values of the function for images_set, labels_set on train-set\n",
    "data_train_images, data_train_labels = load_dataset('Datasets/FER-2013/FER-2013-with-DA-training-set.pkl.gz')"
   ]
  },
  {
   "cell_type": "code",
   "execution_count": 6,
   "metadata": {
    "collapsed": true
   },
   "outputs": [],
   "source": [
    "# Returns the values of the function for images_set, labels_set on test-set\n",
    "data_test_images, data_test_labels = load_dataset('Datasets/FER-2013/FER-2013-test-set.pkl.gz')"
   ]
  },
  {
   "cell_type": "code",
   "execution_count": 7,
   "metadata": {
    "collapsed": true
   },
   "outputs": [],
   "source": [
    "# Class labels are One-Hot coded, meaning that each label is a vector with 10 elements,\n",
    "# all of which are zero except one element\n",
    "def dense_to_one_hot(labels_dense, num_classes):\n",
    "    num_labels = labels_dense.shape[0]\n",
    "    index_offset = np.arange(num_labels) * num_classes\n",
    "    labels_one_hot = np.zeros((num_labels, num_classes))\n",
    "    labels_one_hot.flat[index_offset + labels_dense.ravel()] = 1\n",
    "    \n",
    "    return labels_one_hot"
   ]
  },
  {
   "cell_type": "code",
   "execution_count": 8,
   "metadata": {
    "collapsed": true
   },
   "outputs": [],
   "source": [
    "# Call function dense_to_one_hot()\n",
    "data_train_labels  = dense_to_one_hot(labels_dense=data_train_labels, num_classes=num_classes)\n",
    "data_test_labels  = dense_to_one_hot(labels_dense=data_test_labels, num_classes=num_classes)"
   ]
  },
  {
   "cell_type": "code",
   "execution_count": 9,
   "metadata": {},
   "outputs": [
    {
     "name": "stdout",
     "output_type": "stream",
     "text": [
      "Size of:\n",
      "- Training-set:\t\t91510\n",
      "- Test-set:\t\t3589\n"
     ]
    }
   ],
   "source": [
    "print(\"Size of:\")\n",
    "print(\"- Training-set:\\t\\t{}\".format(len(data_train_images)))\n",
    "print(\"- Test-set:\\t\\t{}\".format(len(data_test_images)))"
   ]
  },
  {
   "cell_type": "code",
   "execution_count": 10,
   "metadata": {
    "collapsed": true
   },
   "outputs": [],
   "source": [
    "data_test_cls = np.argmax(data_test_labels, axis=1)\n",
    "# print data_test_cls"
   ]
  },
  {
   "cell_type": "code",
   "execution_count": 11,
   "metadata": {
    "collapsed": true
   },
   "outputs": [],
   "source": [
    "# Helper-function for catch the class\n",
    "# number and print its corresponding name\n",
    "def get_emotion(num_class):\n",
    "    if num_class == 0:\n",
    "        return 'Angry'\n",
    "    elif num_class == 1:\n",
    "        return 'Disgust'\n",
    "    elif num_class == 2:\n",
    "        return 'Fear'\n",
    "    elif num_class == 3:\n",
    "        return 'Happy'\n",
    "    elif num_class == 4:\n",
    "        return 'Sad'\n",
    "    elif num_class == 5:\n",
    "        return 'Surprise'\n",
    "    elif num_class == 6:\n",
    "        return 'Neutral'"
   ]
  },
  {
   "cell_type": "code",
   "execution_count": 12,
   "metadata": {
    "collapsed": true
   },
   "outputs": [],
   "source": [
    "# Helper-function for plotting images\n",
    "def plot_images(images, cls_true, cls_pred=None):\n",
    "    assert len(images) == len(cls_true) == 9\n",
    "    \n",
    "    # Create figure with 3x3 sub-plots\n",
    "    fig, axes = plt.subplots(3, 3)\n",
    "    fig.subplots_adjust(hspace=0.3, wspace=0.3)\n",
    "\n",
    "    for i, ax in enumerate(axes.flat):\n",
    "        # Plot image\n",
    "        ax.imshow(images[i].reshape(image_shape), cmap='gray')\n",
    "\n",
    "        # Show true and predicted classes\n",
    "        # T = True, and P = Predicted\n",
    "        if cls_pred is None:\n",
    "            xlabel = \"T: {0}\".format(get_emotion(cls_true[i]))\n",
    "        else:\n",
    "            xlabel = \"T: {0}, P: {1}\".format(get_emotion(cls_true[i]), get_emotion(cls_pred[i]))\n",
    "\n",
    "        # Show the classes as the label on the x-axis\n",
    "        ax.set_xlabel(xlabel)\n",
    "        \n",
    "        # Remove ticks from the plot\n",
    "        ax.set_xticks([])\n",
    "        ax.set_yticks([])\n",
    "    \n",
    "    plt.show()"
   ]
  },
  {
   "cell_type": "code",
   "execution_count": 13,
   "metadata": {},
   "outputs": [
    {
     "data": {
      "image/png": "[encoded data removed]",
      "text/plain": [
       "<matplotlib.figure.Figure at 0x7fce0a6f6978>"
      ]
     },
     "metadata": {},
     "output_type": "display_data"
    }
   ],
   "source": [
    "# Plot a few images to see if data is correct\n",
    "\n",
    "# Get the first images from the test-set\n",
    "images = data_test_images[0:9]\n",
    "\n",
    "# Get the true classes for those images\n",
    "cls_true = data_test_cls[0:9]\n",
    "\n",
    "# Plot the images and labels using our helper-function above\n",
    "plot_images(images=images, cls_true=cls_true)"
   ]
  },
  {
   "cell_type": "code",
   "execution_count": 14,
   "metadata": {
    "collapsed": true
   },
   "outputs": [],
   "source": [
    "# Convolutional Layer 1\n",
    "\n",
    "# Convolution filters are 3 x 3 pixels\n",
    "filter_height_1 = 3\n",
    "filter_width_1 = 3\n",
    "\n",
    "# There are 8 of these filters\n",
    "num_filters_1 = 8\n",
    "\n",
    "# Convolutional Layer 2\n",
    "\n",
    "# Convolution filters are 3 x 3 pixels\n",
    "filter_height_2 = 3 \n",
    "filter_width_2 = 3\n",
    "\n",
    "# There are 16 of these filters\n",
    "num_filters_2 = 16\n",
    "\n",
    "# Convolutional Layer 3\n",
    "\n",
    "# Convolution filters are 3 x 3 pixels\n",
    "filter_height_3 = 3\n",
    "filter_width_3 = 3\n",
    "\n",
    "# There are 32 of these filters\n",
    "num_filters_3 = 32\n",
    "\n",
    "# Convolutional Layer 4\n",
    "\n",
    "# Convolution filters are 3 x 3 pixels\n",
    "filter_height_4 = 3\n",
    "filter_width_4 = 3\n",
    "\n",
    "# There are 64 of these filters\n",
    "num_filters_4 = 64\n",
    "\n",
    "# Convolutional Layer 5\n",
    "\n",
    "# Convolution filters are 3 x 3 pixels\n",
    "filter_height_5 = 3\n",
    "filter_width_5 = 3\n",
    "\n",
    "# There are 128 of these filters\n",
    "num_filters_5 = 128\n",
    "\n",
    "# Fully-connected layer\n",
    "# Number of neurons in fully-connected layer\n",
    "fc_size = 128"
   ]
  },
  {
   "cell_type": "code",
   "execution_count": 15,
   "metadata": {
    "collapsed": true
   },
   "outputs": [],
   "source": [
    "# Non-trainable filters initialized with distribution\n",
    "# of Bernoulli as in article and then it's non-trainable\n",
    "def new_weights_non_trainable(h,\n",
    "                              w,\n",
    "                              num_input,\n",
    "                              num_output,\n",
    "                              sparsity=0.5):\n",
    "    \n",
    "    # Number of elements\n",
    "    num_elements = h * w * num_input * num_output\n",
    "    \n",
    "    # Create an array with n number of elements\n",
    "    array = np.arange(num_elements)\n",
    "    \n",
    "    # Random shuffle it\n",
    "    np.random.shuffle(array)\n",
    "    \n",
    "    # Fill with 0\n",
    "    weight = np.zeros([num_elements])\n",
    "    \n",
    "    # Get number of elements in array that need be non-zero\n",
    "    ind = int(sparsity * num_elements + 0.5)\n",
    "    \n",
    "    # Get it piece as indexes for weight matrix\n",
    "    index = array[:ind]\n",
    "  \n",
    "    for i in index:\n",
    "        # Fill those indexes with bernoulli distribution\n",
    "        # Method rvs = random variates\n",
    "        weight[i] = bernoulli.rvs(0.5)*2-1\n",
    "\n",
    "    # Reshape weights array for matrix that we need\n",
    "    weights = weight.reshape(h, w, num_input, num_output)\n",
    "    \n",
    "    # print weights\n",
    "\n",
    "    return weights"
   ]
  },
  {
   "cell_type": "code",
   "execution_count": 16,
   "metadata": {
    "collapsed": true
   },
   "outputs": [],
   "source": [
    "def new_weights(shape):\n",
    "    return tf.Variable(tf.truncated_normal(shape, stddev=0.05))"
   ]
  },
  {
   "cell_type": "code",
   "execution_count": 17,
   "metadata": {
    "collapsed": true
   },
   "outputs": [],
   "source": [
    "def new_biases(length):\n",
    "    # Equivalent to y intercept\n",
    "    # Constant value carried over across matrix math\n",
    "    return tf.Variable(tf.constant(0.05, shape=[length]))"
   ]
  },
  {
   "cell_type": "code",
   "execution_count": 18,
   "metadata": {
    "collapsed": true
   },
   "outputs": [],
   "source": [
    "# Think of it as one block\n",
    "\n",
    "def new_LBC_layer(input,              # The previous layer\n",
    "                  filter_height,      # Height of each filter\n",
    "                  filter_width,       # Width of each filter\n",
    "                  in_channels,        # Num. channels in prev. layer\n",
    "                  out_channels,       # # Number of filters\n",
    "                  use_pooling=True):  # Use 2x2 max-pooling\n",
    "    \n",
    "    # The out_channels of the previous layer are the in_channels of the next layer\n",
    "\n",
    "    # Shape of the filter-weights for the convolution\n",
    "    # This format is determined by the TensorFlow API\n",
    "    # shape = [filter_height, filter_width, in_channels, out_channels]\n",
    "\n",
    "    # Non-trainable filters\n",
    "    anchor_weights = tf.Variable(new_weights_non_trainable(h=filter_height,\n",
    "                                                           w=filter_width,\n",
    "                                                           num_input=in_channels,\n",
    "                                                           num_output=out_channels).astype(np.float32),\n",
    "                                                           trainable=False)\n",
    "    \n",
    "    # Difference Maps\n",
    "    difference_maps = tf.nn.conv2d(input=input,\n",
    "                                   filter=anchor_weights,\n",
    "                                   strides=[1, 1, 1, 1],\n",
    "                                   padding='SAME')\n",
    "    \n",
    "    # Non-linear unit is ReLU, as in article\n",
    "    \n",
    "    # Bit Maps\n",
    "    bit_maps = tf.nn.relu(difference_maps)\n",
    "    \n",
    "    # Set of learnable linear weights is a convolution with 1x1 kernels,\n",
    "    # without bias and without non-linear unit\n",
    "\n",
    "    shape = [1, 1, out_channels, 1]\n",
    "    \n",
    "    weights = new_weights(shape)\n",
    "\n",
    "    # Feature Maps\n",
    "    feature_maps = tf.nn.conv2d(input=bit_maps, \n",
    "                                filter=weights,\n",
    "                                strides=[1, 1, 1, 1],\n",
    "                                padding='SAME')\n",
    "\n",
    "    # Use pooling to down-sample the image resolution?\n",
    "    if use_pooling:\n",
    "        # This is 2x2 max-pooling, which means that we\n",
    "        # consider 2x2 windows and select the largest value\n",
    "        # in each window. Then we move 2 pixels to the next window\n",
    "        feature_maps = tf.nn.max_pool(value=feature_maps,\n",
    "                               ksize=[1, 2, 2, 1],\n",
    "                               strides=[1, 2, 2, 1],\n",
    "                               padding='SAME')\n",
    "\n",
    "    # We will plot them later\n",
    "    return feature_maps, anchor_weights, weights"
   ]
  },
  {
   "cell_type": "code",
   "execution_count": 19,
   "metadata": {
    "collapsed": true
   },
   "outputs": [],
   "source": [
    "# Convolutional layer 1 \n",
    "feature_maps_conv_1, anchor_weights_conv_1, weights_conv_1 = new_LBC_layer(input=x_image,\n",
    "                                                                           filter_height=filter_height_1,\n",
    "                                                                           filter_width=filter_width_1,\n",
    "                                                                           in_channels=num_channels,\n",
    "                                                                           out_channels=num_filters_1,\n",
    "                                                                           use_pooling=False)"
   ]
  },
  {
   "cell_type": "code",
   "execution_count": 20,
   "metadata": {},
   "outputs": [
    {
     "data": {
      "text/plain": [
       "<tf.Tensor 'Conv2D_1:0' shape=(?, 48, 48, 1) dtype=float32>"
      ]
     },
     "execution_count": 20,
     "metadata": {},
     "output_type": "execute_result"
    }
   ],
   "source": [
    "feature_maps_conv_1"
   ]
  },
  {
   "cell_type": "code",
   "execution_count": 21,
   "metadata": {},
   "outputs": [
    {
     "data": {
      "text/plain": [
       "<tf.Variable 'Variable:0' shape=(3, 3, 1, 8) dtype=float32_ref>"
      ]
     },
     "execution_count": 21,
     "metadata": {},
     "output_type": "execute_result"
    }
   ],
   "source": [
    "anchor_weights_conv_1"
   ]
  },
  {
   "cell_type": "code",
   "execution_count": 22,
   "metadata": {},
   "outputs": [
    {
     "data": {
      "text/plain": [
       "<tf.Variable 'Variable_1:0' shape=(1, 1, 8, 1) dtype=float32_ref>"
      ]
     },
     "execution_count": 22,
     "metadata": {},
     "output_type": "execute_result"
    }
   ],
   "source": [
    "weights_conv_1"
   ]
  },
  {
   "cell_type": "code",
   "execution_count": 23,
   "metadata": {
    "collapsed": true
   },
   "outputs": [],
   "source": [
    "# Convolutional layer 2\n",
    "feature_maps_conv_2, anchor_weights_conv_2, weights_conv_2 = new_LBC_layer(input=feature_maps_conv_1,\n",
    "                                                                           filter_height=filter_height_2,\n",
    "                                                                           filter_width=filter_width_2,\n",
    "                                                                           in_channels=1,\n",
    "                                                                           out_channels=num_filters_2,\n",
    "                                                                           use_pooling=False)"
   ]
  },
  {
   "cell_type": "code",
   "execution_count": 24,
   "metadata": {},
   "outputs": [
    {
     "data": {
      "text/plain": [
       "<tf.Tensor 'Conv2D_3:0' shape=(?, 48, 48, 1) dtype=float32>"
      ]
     },
     "execution_count": 24,
     "metadata": {},
     "output_type": "execute_result"
    }
   ],
   "source": [
    "feature_maps_conv_2"
   ]
  },
  {
   "cell_type": "code",
   "execution_count": 25,
   "metadata": {},
   "outputs": [
    {
     "data": {
      "text/plain": [
       "<tf.Variable 'Variable_2:0' shape=(3, 3, 1, 16) dtype=float32_ref>"
      ]
     },
     "execution_count": 25,
     "metadata": {},
     "output_type": "execute_result"
    }
   ],
   "source": [
    "anchor_weights_conv_2"
   ]
  },
  {
   "cell_type": "code",
   "execution_count": 26,
   "metadata": {},
   "outputs": [
    {
     "data": {
      "text/plain": [
       "<tf.Variable 'Variable_3:0' shape=(1, 1, 16, 1) dtype=float32_ref>"
      ]
     },
     "execution_count": 26,
     "metadata": {},
     "output_type": "execute_result"
    }
   ],
   "source": [
    "weights_conv_2"
   ]
  },
  {
   "cell_type": "code",
   "execution_count": 27,
   "metadata": {
    "collapsed": true
   },
   "outputs": [],
   "source": [
    "# Convolutional layer 3\n",
    "feature_maps_conv_3, anchor_weights_conv_3, weights_conv_3 = new_LBC_layer(input=feature_maps_conv_2,\n",
    "                                                                           filter_height=filter_height_3,\n",
    "                                                                           filter_width=filter_width_3,\n",
    "                                                                           in_channels=1,\n",
    "                                                                           out_channels=num_filters_3,\n",
    "                                                                           use_pooling=False)"
   ]
  },
  {
   "cell_type": "code",
   "execution_count": 28,
   "metadata": {},
   "outputs": [
    {
     "data": {
      "text/plain": [
       "<tf.Tensor 'Conv2D_5:0' shape=(?, 48, 48, 1) dtype=float32>"
      ]
     },
     "execution_count": 28,
     "metadata": {},
     "output_type": "execute_result"
    }
   ],
   "source": [
    "feature_maps_conv_3"
   ]
  },
  {
   "cell_type": "code",
   "execution_count": 29,
   "metadata": {},
   "outputs": [
    {
     "data": {
      "text/plain": [
       "<tf.Variable 'Variable_4:0' shape=(3, 3, 1, 32) dtype=float32_ref>"
      ]
     },
     "execution_count": 29,
     "metadata": {},
     "output_type": "execute_result"
    }
   ],
   "source": [
    "anchor_weights_conv_3"
   ]
  },
  {
   "cell_type": "code",
   "execution_count": 30,
   "metadata": {},
   "outputs": [
    {
     "data": {
      "text/plain": [
       "<tf.Variable 'Variable_5:0' shape=(1, 1, 32, 1) dtype=float32_ref>"
      ]
     },
     "execution_count": 30,
     "metadata": {},
     "output_type": "execute_result"
    }
   ],
   "source": [
    "weights_conv_3"
   ]
  },
  {
   "cell_type": "code",
   "execution_count": 31,
   "metadata": {
    "collapsed": true
   },
   "outputs": [],
   "source": [
    "# Convolutional layer 4\n",
    "feature_maps_conv_4, anchor_weights_conv_4, weights_conv_4 = new_LBC_layer(input=feature_maps_conv_3,\n",
    "                                                                           filter_height=filter_height_4,\n",
    "                                                                           filter_width=filter_width_4,\n",
    "                                                                           in_channels=1,\n",
    "                                                                           out_channels=num_filters_4,\n",
    "                                                                           use_pooling=False)"
   ]
  },
  {
   "cell_type": "code",
   "execution_count": 32,
   "metadata": {},
   "outputs": [
    {
     "data": {
      "text/plain": [
       "<tf.Tensor 'Conv2D_7:0' shape=(?, 48, 48, 1) dtype=float32>"
      ]
     },
     "execution_count": 32,
     "metadata": {},
     "output_type": "execute_result"
    }
   ],
   "source": [
    "feature_maps_conv_4"
   ]
  },
  {
   "cell_type": "code",
   "execution_count": 33,
   "metadata": {},
   "outputs": [
    {
     "data": {
      "text/plain": [
       "<tf.Variable 'Variable_6:0' shape=(3, 3, 1, 64) dtype=float32_ref>"
      ]
     },
     "execution_count": 33,
     "metadata": {},
     "output_type": "execute_result"
    }
   ],
   "source": [
    "anchor_weights_conv_4"
   ]
  },
  {
   "cell_type": "code",
   "execution_count": 34,
   "metadata": {},
   "outputs": [
    {
     "data": {
      "text/plain": [
       "<tf.Variable 'Variable_7:0' shape=(1, 1, 64, 1) dtype=float32_ref>"
      ]
     },
     "execution_count": 34,
     "metadata": {},
     "output_type": "execute_result"
    }
   ],
   "source": [
    "weights_conv_4"
   ]
  },
  {
   "cell_type": "code",
   "execution_count": 35,
   "metadata": {
    "collapsed": true
   },
   "outputs": [],
   "source": [
    "# Convolutional layer 5\n",
    "feature_maps_conv_5, anchor_weights_conv_5, weights_conv_5 = new_LBC_layer(input=feature_maps_conv_4,\n",
    "                                                                           filter_height=filter_height_5,\n",
    "                                                                           filter_width=filter_width_5,\n",
    "                                                                           in_channels=1,\n",
    "                                                                           out_channels=num_filters_5,\n",
    "                                                                           use_pooling=True)"
   ]
  },
  {
   "cell_type": "code",
   "execution_count": 36,
   "metadata": {},
   "outputs": [
    {
     "data": {
      "text/plain": [
       "<tf.Tensor 'MaxPool:0' shape=(?, 24, 24, 1) dtype=float32>"
      ]
     },
     "execution_count": 36,
     "metadata": {},
     "output_type": "execute_result"
    }
   ],
   "source": [
    "feature_maps_conv_5"
   ]
  },
  {
   "cell_type": "code",
   "execution_count": 37,
   "metadata": {},
   "outputs": [
    {
     "data": {
      "text/plain": [
       "<tf.Variable 'Variable_8:0' shape=(3, 3, 1, 128) dtype=float32_ref>"
      ]
     },
     "execution_count": 37,
     "metadata": {},
     "output_type": "execute_result"
    }
   ],
   "source": [
    "anchor_weights_conv_5"
   ]
  },
  {
   "cell_type": "code",
   "execution_count": 38,
   "metadata": {},
   "outputs": [
    {
     "data": {
      "text/plain": [
       "<tf.Variable 'Variable_9:0' shape=(1, 1, 128, 1) dtype=float32_ref>"
      ]
     },
     "execution_count": 38,
     "metadata": {},
     "output_type": "execute_result"
    }
   ],
   "source": [
    "weights_conv_5"
   ]
  },
  {
   "cell_type": "code",
   "execution_count": 39,
   "metadata": {
    "collapsed": true
   },
   "outputs": [],
   "source": [
    "def flatten_layer(layer):\n",
    "    # Get the shape of the input layer\n",
    "    layer_shape = layer.get_shape()\n",
    "\n",
    "    # The shape of the input layer is assumed to be:\n",
    "    # layer_shape == [num_images, image_height, image_width, num_channels]\n",
    "\n",
    "    # The number of features is: image_height * image_width * num_channels\n",
    "    # We can use a function from TensorFlow to calculate this\n",
    "    num_features = layer_shape[1:4].num_elements()\n",
    "    \n",
    "    # Reshape the layer to [num_images, num_features]\n",
    "    # Note that we just set the size of the second dimension\n",
    "    # to num_features and the size of the first dimension to -1\n",
    "    # which means the size in that dimension is calculated\n",
    "    # so the total size of the tensor is unchanged from the reshaping\n",
    "    layer_flat = tf.reshape(layer, [-1, num_features])\n",
    "\n",
    "    # The shape of the flattened layer is now:\n",
    "    # [num_images, image_height * image_width * num_channels]\n",
    "\n",
    "    # Return both the flattened layer and the number of features\n",
    "    return layer_flat, num_features"
   ]
  },
  {
   "cell_type": "code",
   "execution_count": 40,
   "metadata": {
    "collapsed": true
   },
   "outputs": [],
   "source": [
    "layer_flat, num_features = flatten_layer(feature_maps_conv_5)"
   ]
  },
  {
   "cell_type": "code",
   "execution_count": 41,
   "metadata": {},
   "outputs": [
    {
     "data": {
      "text/plain": [
       "<tf.Tensor 'Reshape_1:0' shape=(?, 576) dtype=float32>"
      ]
     },
     "execution_count": 41,
     "metadata": {},
     "output_type": "execute_result"
    }
   ],
   "source": [
    "layer_flat"
   ]
  },
  {
   "cell_type": "code",
   "execution_count": 42,
   "metadata": {},
   "outputs": [
    {
     "data": {
      "text/plain": [
       "576"
      ]
     },
     "execution_count": 42,
     "metadata": {},
     "output_type": "execute_result"
    }
   ],
   "source": [
    "num_features"
   ]
  },
  {
   "cell_type": "code",
   "execution_count": 43,
   "metadata": {
    "collapsed": true
   },
   "outputs": [],
   "source": [
    "def new_fc_layer(input,          # The previous layer\n",
    "                 num_inputs,     # Num. inputs from prev. layer\n",
    "                 num_outputs,    # Num. outputs\n",
    "                 use_relu=True): # Use Rectified Linear Unit (ReLU)?\n",
    "\n",
    "    # Create new weights and biases\n",
    "    weights = new_weights(shape=[num_inputs, num_outputs])\n",
    "    biases = new_biases(length=num_outputs)\n",
    "\n",
    "    # Calculate the layer as the matrix multiplication of\n",
    "    # the input and weights, and then add the bias-values\n",
    "    layer = tf.matmul(input, weights) + biases\n",
    "\n",
    "    # Use ReLU?\n",
    "    if use_relu:\n",
    "        layer = tf.nn.relu(layer)\n",
    "\n",
    "    return layer"
   ]
  },
  {
   "cell_type": "code",
   "execution_count": 44,
   "metadata": {
    "collapsed": true
   },
   "outputs": [],
   "source": [
    "# Fully-Connected Layer 1\n",
    "layer_fc_1 = new_fc_layer(input=layer_flat,\n",
    "                         num_inputs=num_features,\n",
    "                         num_outputs=fc_size,\n",
    "                         use_relu=True)"
   ]
  },
  {
   "cell_type": "code",
   "execution_count": 45,
   "metadata": {},
   "outputs": [
    {
     "data": {
      "text/plain": [
       "<tf.Tensor 'Relu_5:0' shape=(?, 128) dtype=float32>"
      ]
     },
     "execution_count": 45,
     "metadata": {},
     "output_type": "execute_result"
    }
   ],
   "source": [
    "layer_fc_1"
   ]
  },
  {
   "cell_type": "code",
   "execution_count": 46,
   "metadata": {
    "collapsed": true
   },
   "outputs": [],
   "source": [
    "# Fully-Connected Layer 2 (Classes)\n",
    "layer_fc_2 = new_fc_layer(input=layer_fc_1,\n",
    "                         num_inputs=fc_size,\n",
    "                         num_outputs=num_classes,\n",
    "                         use_relu=False)"
   ]
  },
  {
   "cell_type": "code",
   "execution_count": 47,
   "metadata": {},
   "outputs": [
    {
     "data": {
      "text/plain": [
       "<tf.Tensor 'add_1:0' shape=(?, 7) dtype=float32>"
      ]
     },
     "execution_count": 47,
     "metadata": {},
     "output_type": "execute_result"
    }
   ],
   "source": [
    "layer_fc_2"
   ]
  },
  {
   "cell_type": "code",
   "execution_count": 48,
   "metadata": {
    "collapsed": true
   },
   "outputs": [],
   "source": [
    "# Normalization of class-number output\n",
    "y_pred = tf.nn.softmax(layer_fc_2)"
   ]
  },
  {
   "cell_type": "code",
   "execution_count": 49,
   "metadata": {
    "collapsed": true
   },
   "outputs": [],
   "source": [
    "# The class-number is the index of the largest element\n",
    "y_pred_cls = tf.argmax(y_pred, dimension=1)"
   ]
  },
  {
   "cell_type": "code",
   "execution_count": 50,
   "metadata": {},
   "outputs": [
    {
     "name": "stdout",
     "output_type": "stream",
     "text": [
      "WARNING:tensorflow:From <ipython-input-50-4ea564f06a7d>:3: softmax_cross_entropy_with_logits (from tensorflow.python.ops.nn_ops) is deprecated and will be removed in a future version.\n",
      "Instructions for updating:\n",
      "\n",
      "Future major versions of TensorFlow will allow gradients to flow\n",
      "into the labels input on backprop by default.\n",
      "\n",
      "See tf.nn.softmax_cross_entropy_with_logits_v2.\n",
      "\n"
     ]
    }
   ],
   "source": [
    "# Cross-entropy \n",
    "cross_entropy = tf.nn.softmax_cross_entropy_with_logits(logits=layer_fc_2,\n",
    "                                                        labels=y_true)"
   ]
  },
  {
   "cell_type": "code",
   "execution_count": 51,
   "metadata": {
    "collapsed": true
   },
   "outputs": [],
   "source": [
    "# Average of the cross-entropy\n",
    "loss = tf.reduce_mean(cross_entropy)"
   ]
  },
  {
   "cell_type": "code",
   "execution_count": 52,
   "metadata": {
    "collapsed": true
   },
   "outputs": [],
   "source": [
    "# Optimization method\n",
    "optimizer = tf.train.AdamOptimizer(learning_rate=1e-3).minimize(loss)"
   ]
  },
  {
   "cell_type": "code",
   "execution_count": 53,
   "metadata": {
    "collapsed": true
   },
   "outputs": [],
   "source": [
    "# Measures of performance\n",
    "correct_prediction = tf.equal(y_pred_cls, y_true_cls)\n",
    "\n",
    "accuracy = tf.reduce_mean(tf.cast(correct_prediction, tf.float32))"
   ]
  },
  {
   "cell_type": "code",
   "execution_count": 54,
   "metadata": {},
   "outputs": [
    {
     "name": "stdout",
     "output_type": "stream",
     "text": [
      "\n",
      "Total number of learning parameters in the network model: 75007\n"
     ]
    }
   ],
   "source": [
    "# Calculates the total number of learning parameters\n",
    "total_parameters = 0\n",
    "\n",
    "for variable in tf.trainable_variables():\n",
    "    variable_parameters = 1\n",
    "    \n",
    "    for i in variable.get_shape():\n",
    "        variable_parameters *= i.value\n",
    "        \n",
    "    total_parameters += variable_parameters\n",
    "\n",
    "print(\"\\nTotal number of learning parameters in the network model: %d\" % total_parameters)"
   ]
  },
  {
   "cell_type": "code",
   "execution_count": 55,
   "metadata": {
    "collapsed": true
   },
   "outputs": [],
   "source": [
    "# Saver-object which is used for storing and retrieving\n",
    "# all the variables of the TensorFlow graph\n",
    "saver = tf.train.Saver()"
   ]
  },
  {
   "cell_type": "code",
   "execution_count": 56,
   "metadata": {
    "collapsed": true
   },
   "outputs": [],
   "source": [
    "epochs_completed = 0\n",
    "index_in_epoch = 0\n",
    "num_examples = data_train_images.shape[0]\n",
    "\n",
    "# Serve data by batches\n",
    "def next_batch(batch_size):\n",
    "    \n",
    "    global data_train_images\n",
    "    global data_train_labels \n",
    "    global index_in_epoch\n",
    "    global epochs_completed\n",
    "    \n",
    "    start = index_in_epoch\n",
    "    index_in_epoch += train_batch_size\n",
    "    \n",
    "    # When all trainig data have been already used, it is reorder randomly    \n",
    "    if index_in_epoch > num_examples:\n",
    "        # Finished epoch\n",
    "        epochs_completed += 1\n",
    "        \n",
    "        # Shuffle the data\n",
    "        perm = np.arange(num_examples)\n",
    "        np.random.shuffle(perm)\n",
    "        \n",
    "        data_train_images = data_train_images[perm]\n",
    "        data_train_labels = data_train_labels [perm]\n",
    "        \n",
    "        # Start next epoch\n",
    "        start = 0\n",
    "        index_in_epoch = train_batch_size\n",
    "        \n",
    "        assert train_batch_size <= num_examples\n",
    "    end = index_in_epoch\n",
    "    \n",
    "    return data_train_images[start:end], data_train_labels[start:end]"
   ]
  },
  {
   "cell_type": "code",
   "execution_count": 57,
   "metadata": {
    "collapsed": true
   },
   "outputs": [],
   "source": [
    "# TensorFlow session\n",
    "# Verify your GPU - Find out which device is use\n",
    "session = tf.Session(config=tf.ConfigProto(log_device_placement=True))"
   ]
  },
  {
   "cell_type": "code",
   "execution_count": 58,
   "metadata": {},
   "outputs": [
    {
     "name": "stdout",
     "output_type": "stream",
     "text": [
      "Trying to restore last checkpoint...\n",
      "\n",
      "\n",
      "Failed to restore checkpoint. Initializing variables instead.\n"
     ]
    }
   ],
   "source": [
    "# Restore or initialize variables\n",
    "\n",
    "# We therefore save checkpoints during training so we can continue training at\n",
    "# another time (e.g. during the night), and also for performing analysis later\n",
    "# without having to train the neural network every time we want to use it\n",
    "\n",
    "# If you want to restart the training of the neural network, you have to delete\n",
    "# the checkpoints first\n",
    "\n",
    "# Directory used for the checkpoints\n",
    "save_dir = 'Checkpoints/FER-2013'\n",
    "\n",
    "# Create the directory if it does not exist\n",
    "if not os.path.exists(save_dir):\n",
    "    os.makedirs(save_dir)\n",
    "    \n",
    "# Base-filename for the checkpoints\n",
    "save_path = os.path.join(save_dir, 'FER-2013')\n",
    "\n",
    "# First try to restore the latest checkpoint. This may fail and raise an exception e.g.\n",
    "# if such a checkpoint does not exist, or if you have changed the TensorFlow graph\n",
    "\n",
    "try:\n",
    "    print(\"Trying to restore last checkpoint...\\n\")\n",
    "\n",
    "    # Find the latest checkpoint - if any\n",
    "    last_checkpoint_path = tf.train.latest_checkpoint(checkpoint_dir=save_dir)\n",
    "\n",
    "    # Try and load the data in the checkpoint\n",
    "    saver.restore(session, save_path=last_checkpoint_path)\n",
    "\n",
    "    # If we get to this point, the checkpoint was successfully loaded\n",
    "    print(\"\\nRestored checkpoint from\" + last_checkpoint_path)\n",
    "\n",
    "except:\n",
    "    # If the above failed for some reason, simply\n",
    "    # initialize all the variables for the TensorFlow graph\n",
    "    print(\"\\nFailed to restore checkpoint. Initializing variables instead.\")\n",
    "    session.run(tf.global_variables_initializer())"
   ]
  },
  {
   "cell_type": "code",
   "execution_count": 59,
   "metadata": {
    "collapsed": true
   },
   "outputs": [],
   "source": [
    "# Split the training-set into smaller batches of this size\n",
    "train_batch_size = 32"
   ]
  },
  {
   "cell_type": "code",
   "execution_count": 60,
   "metadata": {
    "collapsed": true
   },
   "outputs": [],
   "source": [
    "# Counter for total number of iterations performed so far\n",
    "total_iterations = 0"
   ]
  },
  {
   "cell_type": "code",
   "execution_count": 61,
   "metadata": {
    "collapsed": true
   },
   "outputs": [],
   "source": [
    "# Helper-function for performing a number of optimization iterations so as to gradually\n",
    "# improve the variables of the network layers\n",
    "\n",
    "# In each iteration, a new batch of data is selected from the training-set and then\n",
    "# TensorFlow executes the optimizer using those training samples\n",
    "\n",
    "# The progress is printed every 100 iterations\n",
    "def training(num_iterations):\n",
    "    \n",
    "    # Ensure we update the global variable rather than a local copy\n",
    "    global total_iterations\n",
    "\n",
    "    # Start-time used for printing time-usage below\n",
    "    start_time = time.time()\n",
    "    \n",
    "    for i in range(total_iterations,\n",
    "                   total_iterations + num_iterations):\n",
    "        \n",
    "        # Get a batch of training examples:\n",
    "        # x_batch now holds a batch of images and\n",
    "        # y_true_batch are the true labels for those images                             \n",
    "        x_batch, y_true_batch = next_batch(train_batch_size)\n",
    "\n",
    "        # Put the batch into a dict with the proper names\n",
    "        # for placeholder variables in the TensorFlow graph\n",
    "        feed_dict_train = {x: x_batch,\n",
    "                           y_true: y_true_batch}\n",
    "        \n",
    "        \n",
    "        # Run the optimizer using this batch of training data\n",
    "        # TensorFlow assigns the variables in feed_dict_train\n",
    "        # to the placeholder variables and then runs the optimizer\n",
    "        session.run(optimizer, feed_dict=feed_dict_train)\n",
    "\n",
    "        # Print status every 100 iterations\n",
    "        if i % 100 == 0:\n",
    "            # Calculate the accuracy on the training-set\n",
    "            acc = session.run(accuracy, feed_dict=feed_dict_train)\n",
    "\n",
    "            # Message for printing\n",
    "            msg = \"Optimization Iteration: {0:>6}, Training Accuracy: {1:>6.1%}\"\n",
    "\n",
    "            # Print it\n",
    "            print(msg.format(i + 1, acc))\n",
    "\n",
    "        # Save a checkpoint to disk every 1000 iterations\n",
    "        if i % 1000 == 0:\n",
    "            # Save all variables of the TensorFlow graph to a checkpoint\n",
    "            # Append the global_step counter to the filename so we save\n",
    "            # the last several checkpoints\n",
    "            saver.save(session, save_path=save_path, global_step=i)\n",
    "\n",
    "            print(\"Saved checkpoint.\")\n",
    "            \n",
    "    # Update the total number of iterations performed.\n",
    "    total_iterations += num_iterations\n",
    "\n",
    "    # Ending time.\n",
    "    end_time = time.time()\n",
    "\n",
    "    # Difference between start and end-times.\n",
    "    time_dif = end_time - start_time\n",
    "\n",
    "    # Print the time-usage.\n",
    "    print(\"Time usage: \" + str(timedelta(seconds=int(round(time_dif)))))"
   ]
  },
  {
   "cell_type": "code",
   "execution_count": 62,
   "metadata": {
    "collapsed": true
   },
   "outputs": [],
   "source": [
    "# Helper-function to plot example errors\n",
    "def plot_example_errors(cls_pred, correct):\n",
    "    # This function is called from test() below\n",
    "\n",
    "    # cls_pred is an array of the predicted class-number for\n",
    "    # all images in the test-set\n",
    "\n",
    "    # correct is a boolean array whether the predicted class\n",
    "    # is equal to the true class for each image in the test-set\n",
    "\n",
    "    # Negate the boolean array\n",
    "    incorrect = (correct == False)\n",
    "    \n",
    "    # Get the images from the test-set that have been\n",
    "    # incorrectly classified\n",
    "    images = data_test_images[incorrect]\n",
    "    \n",
    "    # Get the predicted classes for those images\n",
    "    cls_pred = cls_pred[incorrect]\n",
    "\n",
    "    # Get the true classes for those images\n",
    "    cls_true = data_test_cls[incorrect]\n",
    "    \n",
    "    # Plot the first 9 images\n",
    "    plot_images(images=images[0:9],\n",
    "                cls_true=cls_true[0:9],\n",
    "                cls_pred=cls_pred[0:9])"
   ]
  },
  {
   "cell_type": "code",
   "execution_count": 63,
   "metadata": {
    "collapsed": true
   },
   "outputs": [],
   "source": [
    "# Helper-function to plot confusion matrix\n",
    "def plot_confusion_matrix(cls_pred):\n",
    "    # This is called from test() below\n",
    "\n",
    "    # cls_pred is an array of the predicted class-number for\n",
    "    # all images in the test-set\n",
    "\n",
    "    # Get the true classifications for the test-set\n",
    "    cls_true = data_test_cls\n",
    "    \n",
    "    # Get the confusion matrix using sklearn\n",
    "    cm = confusion_matrix(y_true=cls_true,\n",
    "                          y_pred=cls_pred)\n",
    "\n",
    "    # Print the confusion matrix as text\n",
    "    # print(cm)\n",
    "\n",
    "    # Plot the confusion matrix as an image\n",
    "    thresh = cm.max() / 2.\n",
    "    for i, j in itertools.product(range(cm.shape[0]), range(cm.shape[1])):\n",
    "        plt.text(j,\n",
    "                 i,\n",
    "                 cm[i, j],\n",
    "                 horizontalalignment='center',\n",
    "                 color='white' if cm[i, j] > thresh else 'black')\n",
    "   \n",
    "    # Make various adjustments to the plot\n",
    "    plt.imshow(cm, interpolation='nearest', cmap='Greys')\n",
    "    plt.colorbar()\n",
    "    tick_marks = np.arange(num_classes)\n",
    "    plt.xticks(tick_marks, range(num_classes))\n",
    "    plt.yticks(tick_marks, range(num_classes))\n",
    "    plt.title('Confusion Matrix')\n",
    "    plt.xlabel('Predicted Label')\n",
    "    plt.ylabel('True Label')\n",
    "    \n",
    "    plt.show()"
   ]
  },
  {
   "cell_type": "code",
   "execution_count": 64,
   "metadata": {
    "collapsed": true
   },
   "outputs": [],
   "source": [
    "# Split the test-set into smaller batches of this size\n",
    "test_batch_size = 32"
   ]
  },
  {
   "cell_type": "code",
   "execution_count": 65,
   "metadata": {
    "collapsed": true
   },
   "outputs": [],
   "source": [
    "# Helper-function for showing the performance\n",
    "def test(show_example_errors=False,\n",
    "         show_confusion_matrix=False):\n",
    "\n",
    "    # Number of images in the test-set\n",
    "    num_test = len(data_test_images)\n",
    "\n",
    "    # Allocate an array for the predicted classes which\n",
    "    # will be calculated in batches and filled into this array\n",
    "    cls_pred = np.zeros(shape=num_test, dtype=np.int)\n",
    "\n",
    "    # Now calculate the predicted classes for the batches\n",
    "    # We will just iterate through all the batches\n",
    "\n",
    "    # The starting index for the next batch is denoted i\n",
    "    i = 0\n",
    "\n",
    "    while i < num_test:\n",
    "        # The ending index for the next batch is denoted j\n",
    "        j = min(i + test_batch_size, num_test)\n",
    "\n",
    "        # Get the images from the test-set between index i and j\n",
    "        images = data_test_images[i:j, :]\n",
    "\n",
    "        # Get the associated labels.\n",
    "        labels = data_test_labels[i:j, :]\n",
    "\n",
    "        # Create a feed-dict with these images and labels\n",
    "        feed_dict = {x: images,\n",
    "                     y_true: labels}\n",
    "\n",
    "        # Calculate the predicted class using TensorFlow\n",
    "        cls_pred[i:j] = session.run(y_pred_cls, feed_dict=feed_dict)\n",
    "\n",
    "        # Set the start-index for the next batch to the\n",
    "        # end-index of the current batch\n",
    "        i = j\n",
    "\n",
    "    # Convenience variable for the true class-numbers of the test-set\n",
    "    cls_true = data_test_cls\n",
    "\n",
    "    # Create a boolean array whether each image is correctly classified\n",
    "    correct = (cls_true == cls_pred)\n",
    "\n",
    "    # Calculate the number of correctly classified images\n",
    "    # When summing a boolean array, False means 0 and True means 1\n",
    "    correct_sum = correct.sum()\n",
    "\n",
    "    # Classification accuracy is the number of correctly classified\n",
    "    # images divided by the total number of images in the test-set\n",
    "    acc = float(correct_sum) / num_test\n",
    "\n",
    "    # Print the accuracy\n",
    "    msg = \"Accuracy on Test-Set: {0:.1%} ({1} / {2})\"\n",
    "    print(msg.format(acc, correct_sum, num_test))\n",
    "\n",
    "    # Plot some examples of mis-classifications, if desired\n",
    "    if show_example_errors:\n",
    "        print(\"\\nExample errors:\")\n",
    "        plot_example_errors(cls_pred=cls_pred, correct=correct)\n",
    "\n",
    "    # Plot the confusion matrix, if desired\n",
    "    if show_confusion_matrix:\n",
    "        print(\"Confusion Matrix:\")\n",
    "        plot_confusion_matrix(cls_pred=cls_pred)"
   ]
  },
  {
   "cell_type": "code",
   "execution_count": 66,
   "metadata": {
    "scrolled": false
   },
   "outputs": [
    {
     "name": "stdout",
     "output_type": "stream",
     "text": [
      "Optimization Iteration:      1, Training Accuracy:   9.4%\n",
      "Saved checkpoint.\n",
      "Optimization Iteration:    101, Training Accuracy:  15.6%\n",
      "Optimization Iteration:    201, Training Accuracy:  18.8%\n",
      "Optimization Iteration:    301, Training Accuracy:  15.6%\n",
      "Optimization Iteration:    401, Training Accuracy:  25.0%\n",
      "Optimization Iteration:    501, Training Accuracy:   6.2%\n",
      "Optimization Iteration:    601, Training Accuracy:  18.8%\n",
      "Optimization Iteration:    701, Training Accuracy:  15.6%\n",
      "Optimization Iteration:    801, Training Accuracy:  28.1%\n",
      "Optimization Iteration:    901, Training Accuracy:  21.9%\n",
      "Optimization Iteration:   1001, Training Accuracy:  18.8%\n",
      "Saved checkpoint.\n",
      "Optimization Iteration:   1101, Training Accuracy:  15.6%\n",
      "Optimization Iteration:   1201, Training Accuracy:  21.9%\n",
      "Optimization Iteration:   1301, Training Accuracy:  18.8%\n",
      "Optimization Iteration:   1401, Training Accuracy:  15.6%\n",
      "Optimization Iteration:   1501, Training Accuracy:  21.9%\n",
      "Optimization Iteration:   1601, Training Accuracy:  15.6%\n",
      "Optimization Iteration:   1701, Training Accuracy:  25.0%\n",
      "Optimization Iteration:   1801, Training Accuracy:  28.1%\n",
      "Optimization Iteration:   1901, Training Accuracy:  34.4%\n",
      "Optimization Iteration:   2001, Training Accuracy:  25.0%\n",
      "Saved checkpoint.\n",
      "Optimization Iteration:   2101, Training Accuracy:  28.1%\n",
      "Optimization Iteration:   2201, Training Accuracy:  28.1%\n",
      "Optimization Iteration:   2301, Training Accuracy:  18.8%\n",
      "Optimization Iteration:   2401, Training Accuracy:  34.4%\n",
      "Optimization Iteration:   2501, Training Accuracy:  31.2%\n",
      "Optimization Iteration:   2601, Training Accuracy:  18.8%\n",
      "Optimization Iteration:   2701, Training Accuracy:  31.2%\n",
      "Optimization Iteration:   2801, Training Accuracy:  31.2%\n",
      "Optimization Iteration:   2901, Training Accuracy:  25.0%\n",
      "Optimization Iteration:   3001, Training Accuracy:  28.1%\n",
      "Saved checkpoint.\n",
      "Optimization Iteration:   3101, Training Accuracy:  25.0%\n",
      "Optimization Iteration:   3201, Training Accuracy:  25.0%\n",
      "Optimization Iteration:   3301, Training Accuracy:  34.4%\n",
      "Optimization Iteration:   3401, Training Accuracy:  37.5%\n",
      "Optimization Iteration:   3501, Training Accuracy:  37.5%\n",
      "Optimization Iteration:   3601, Training Accuracy:  28.1%\n",
      "Optimization Iteration:   3701, Training Accuracy:  28.1%\n",
      "Optimization Iteration:   3801, Training Accuracy:  34.4%\n",
      "Optimization Iteration:   3901, Training Accuracy:  21.9%\n",
      "Optimization Iteration:   4001, Training Accuracy:  43.8%\n",
      "Saved checkpoint.\n",
      "Optimization Iteration:   4101, Training Accuracy:  34.4%\n",
      "Optimization Iteration:   4201, Training Accuracy:  28.1%\n",
      "Optimization Iteration:   4301, Training Accuracy:  40.6%\n",
      "Optimization Iteration:   4401, Training Accuracy:  40.6%\n",
      "Optimization Iteration:   4501, Training Accuracy:  34.4%\n",
      "Optimization Iteration:   4601, Training Accuracy:  21.9%\n",
      "Optimization Iteration:   4701, Training Accuracy:  34.4%\n",
      "Optimization Iteration:   4801, Training Accuracy:  34.4%\n",
      "Optimization Iteration:   4901, Training Accuracy:  25.0%\n",
      "Optimization Iteration:   5001, Training Accuracy:  31.2%\n",
      "Saved checkpoint.\n",
      "Optimization Iteration:   5101, Training Accuracy:  31.2%\n",
      "Optimization Iteration:   5201, Training Accuracy:  28.1%\n",
      "Optimization Iteration:   5301, Training Accuracy:  34.4%\n",
      "Optimization Iteration:   5401, Training Accuracy:  34.4%\n",
      "Optimization Iteration:   5501, Training Accuracy:  40.6%\n",
      "Optimization Iteration:   5601, Training Accuracy:  40.6%\n",
      "Optimization Iteration:   5701, Training Accuracy:  34.4%\n",
      "Optimization Iteration:   5801, Training Accuracy:  25.0%\n",
      "Optimization Iteration:   5901, Training Accuracy:  25.0%\n",
      "Optimization Iteration:   6001, Training Accuracy:  37.5%\n",
      "Saved checkpoint.\n",
      "Optimization Iteration:   6101, Training Accuracy:  31.2%\n",
      "Optimization Iteration:   6201, Training Accuracy:  18.8%\n",
      "Optimization Iteration:   6301, Training Accuracy:  34.4%\n",
      "Optimization Iteration:   6401, Training Accuracy:  25.0%\n",
      "Optimization Iteration:   6501, Training Accuracy:  37.5%\n",
      "Optimization Iteration:   6601, Training Accuracy:  28.1%\n",
      "Optimization Iteration:   6701, Training Accuracy:  31.2%\n",
      "Optimization Iteration:   6801, Training Accuracy:  46.9%\n",
      "Optimization Iteration:   6901, Training Accuracy:  28.1%\n",
      "Optimization Iteration:   7001, Training Accuracy:  40.6%\n",
      "Saved checkpoint.\n",
      "Optimization Iteration:   7101, Training Accuracy:  34.4%\n",
      "Optimization Iteration:   7201, Training Accuracy:  31.2%\n",
      "Optimization Iteration:   7301, Training Accuracy:  31.2%\n",
      "Optimization Iteration:   7401, Training Accuracy:  15.6%\n",
      "Optimization Iteration:   7501, Training Accuracy:  28.1%\n",
      "Optimization Iteration:   7601, Training Accuracy:  34.4%\n",
      "Optimization Iteration:   7701, Training Accuracy:  31.2%\n",
      "Optimization Iteration:   7801, Training Accuracy:  40.6%\n",
      "Optimization Iteration:   7901, Training Accuracy:  28.1%\n",
      "Optimization Iteration:   8001, Training Accuracy:  31.2%\n",
      "Saved checkpoint.\n",
      "Optimization Iteration:   8101, Training Accuracy:  28.1%\n",
      "Optimization Iteration:   8201, Training Accuracy:  31.2%\n",
      "Optimization Iteration:   8301, Training Accuracy:  34.4%\n",
      "Optimization Iteration:   8401, Training Accuracy:  37.5%\n",
      "Optimization Iteration:   8501, Training Accuracy:  25.0%\n",
      "Optimization Iteration:   8601, Training Accuracy:  31.2%\n",
      "Optimization Iteration:   8701, Training Accuracy:  43.8%\n",
      "Optimization Iteration:   8801, Training Accuracy:  34.4%\n",
      "Optimization Iteration:   8901, Training Accuracy:  46.9%\n",
      "Optimization Iteration:   9001, Training Accuracy:  43.8%\n",
      "Saved checkpoint.\n",
      "Optimization Iteration:   9101, Training Accuracy:  40.6%\n",
      "Optimization Iteration:   9201, Training Accuracy:  37.5%\n",
      "Optimization Iteration:   9301, Training Accuracy:  37.5%\n",
      "Optimization Iteration:   9401, Training Accuracy:  34.4%\n",
      "Optimization Iteration:   9501, Training Accuracy:  21.9%\n",
      "Optimization Iteration:   9601, Training Accuracy:  56.2%\n",
      "Optimization Iteration:   9701, Training Accuracy:  31.2%\n",
      "Optimization Iteration:   9801, Training Accuracy:  25.0%\n",
      "Optimization Iteration:   9901, Training Accuracy:  34.4%\n",
      "Optimization Iteration:  10001, Training Accuracy:  28.1%\n",
      "Saved checkpoint.\n",
      "Optimization Iteration:  10101, Training Accuracy:  28.1%\n",
      "Optimization Iteration:  10201, Training Accuracy:  21.9%\n",
      "Optimization Iteration:  10301, Training Accuracy:  28.1%\n",
      "Optimization Iteration:  10401, Training Accuracy:  28.1%\n",
      "Optimization Iteration:  10501, Training Accuracy:  28.1%\n",
      "Optimization Iteration:  10601, Training Accuracy:  34.4%\n",
      "Optimization Iteration:  10701, Training Accuracy:  34.4%\n",
      "Optimization Iteration:  10801, Training Accuracy:  28.1%\n",
      "Optimization Iteration:  10901, Training Accuracy:  43.8%\n",
      "Optimization Iteration:  11001, Training Accuracy:  25.0%\n",
      "Saved checkpoint.\n",
      "Optimization Iteration:  11101, Training Accuracy:  21.9%\n",
      "Optimization Iteration:  11201, Training Accuracy:  34.4%\n",
      "Optimization Iteration:  11301, Training Accuracy:  34.4%\n",
      "Optimization Iteration:  11401, Training Accuracy:  37.5%\n",
      "Optimization Iteration:  11501, Training Accuracy:  50.0%\n",
      "Optimization Iteration:  11601, Training Accuracy:  31.2%\n",
      "Optimization Iteration:  11701, Training Accuracy:  37.5%\n",
      "Optimization Iteration:  11801, Training Accuracy:  43.8%\n",
      "Optimization Iteration:  11901, Training Accuracy:  40.6%\n",
      "Optimization Iteration:  12001, Training Accuracy:  31.2%\n",
      "Saved checkpoint.\n",
      "Optimization Iteration:  12101, Training Accuracy:  25.0%\n",
      "Optimization Iteration:  12201, Training Accuracy:  34.4%\n",
      "Optimization Iteration:  12301, Training Accuracy:  34.4%\n",
      "Optimization Iteration:  12401, Training Accuracy:  21.9%\n",
      "Optimization Iteration:  12501, Training Accuracy:  34.4%\n",
      "Optimization Iteration:  12601, Training Accuracy:  15.6%\n",
      "Optimization Iteration:  12701, Training Accuracy:  50.0%\n",
      "Optimization Iteration:  12801, Training Accuracy:  21.9%\n",
      "Optimization Iteration:  12901, Training Accuracy:  31.2%\n",
      "Optimization Iteration:  13001, Training Accuracy:  43.8%\n",
      "Saved checkpoint.\n",
      "Optimization Iteration:  13101, Training Accuracy:  34.4%\n",
      "Optimization Iteration:  13201, Training Accuracy:  34.4%\n",
      "Optimization Iteration:  13301, Training Accuracy:  40.6%\n",
      "Optimization Iteration:  13401, Training Accuracy:  43.8%\n",
      "Optimization Iteration:  13501, Training Accuracy:  34.4%\n",
      "Optimization Iteration:  13601, Training Accuracy:  34.4%\n"
     ]
    },
    {
     "name": "stdout",
     "output_type": "stream",
     "text": [
      "Optimization Iteration:  13701, Training Accuracy:  34.4%\n",
      "Optimization Iteration:  13801, Training Accuracy:  43.8%\n",
      "Optimization Iteration:  13901, Training Accuracy:  25.0%\n",
      "Optimization Iteration:  14001, Training Accuracy:  34.4%\n",
      "Saved checkpoint.\n",
      "Optimization Iteration:  14101, Training Accuracy:  34.4%\n",
      "Optimization Iteration:  14201, Training Accuracy:  31.2%\n",
      "Optimization Iteration:  14301, Training Accuracy:  31.2%\n",
      "Optimization Iteration:  14401, Training Accuracy:  25.0%\n",
      "Optimization Iteration:  14501, Training Accuracy:  43.8%\n",
      "Optimization Iteration:  14601, Training Accuracy:  28.1%\n",
      "Optimization Iteration:  14701, Training Accuracy:  25.0%\n",
      "Optimization Iteration:  14801, Training Accuracy:  18.8%\n",
      "Optimization Iteration:  14901, Training Accuracy:  56.2%\n",
      "Optimization Iteration:  15001, Training Accuracy:  31.2%\n",
      "Saved checkpoint.\n",
      "Optimization Iteration:  15101, Training Accuracy:  37.5%\n",
      "Optimization Iteration:  15201, Training Accuracy:  28.1%\n",
      "Optimization Iteration:  15301, Training Accuracy:  21.9%\n",
      "Optimization Iteration:  15401, Training Accuracy:  37.5%\n",
      "Optimization Iteration:  15501, Training Accuracy:  37.5%\n",
      "Optimization Iteration:  15601, Training Accuracy:  43.8%\n",
      "Optimization Iteration:  15701, Training Accuracy:  43.8%\n",
      "Optimization Iteration:  15801, Training Accuracy:  40.6%\n",
      "Optimization Iteration:  15901, Training Accuracy:  28.1%\n",
      "Optimization Iteration:  16001, Training Accuracy:  34.4%\n",
      "Saved checkpoint.\n",
      "Optimization Iteration:  16101, Training Accuracy:  37.5%\n",
      "Optimization Iteration:  16201, Training Accuracy:  34.4%\n",
      "Optimization Iteration:  16301, Training Accuracy:  31.2%\n",
      "Optimization Iteration:  16401, Training Accuracy:  40.6%\n",
      "Optimization Iteration:  16501, Training Accuracy:  40.6%\n",
      "Optimization Iteration:  16601, Training Accuracy:  28.1%\n",
      "Optimization Iteration:  16701, Training Accuracy:  40.6%\n",
      "Optimization Iteration:  16801, Training Accuracy:  15.6%\n",
      "Optimization Iteration:  16901, Training Accuracy:  43.8%\n",
      "Optimization Iteration:  17001, Training Accuracy:  40.6%\n",
      "Saved checkpoint.\n",
      "Optimization Iteration:  17101, Training Accuracy:  31.2%\n",
      "Optimization Iteration:  17201, Training Accuracy:  43.8%\n",
      "Optimization Iteration:  17301, Training Accuracy:  40.6%\n",
      "Optimization Iteration:  17401, Training Accuracy:  34.4%\n",
      "Optimization Iteration:  17501, Training Accuracy:  37.5%\n",
      "Optimization Iteration:  17601, Training Accuracy:  43.8%\n",
      "Optimization Iteration:  17701, Training Accuracy:  46.9%\n",
      "Optimization Iteration:  17801, Training Accuracy:  43.8%\n",
      "Optimization Iteration:  17901, Training Accuracy:  34.4%\n",
      "Optimization Iteration:  18001, Training Accuracy:  43.8%\n",
      "Saved checkpoint.\n",
      "Optimization Iteration:  18101, Training Accuracy:  37.5%\n",
      "Optimization Iteration:  18201, Training Accuracy:  25.0%\n",
      "Optimization Iteration:  18301, Training Accuracy:  46.9%\n",
      "Optimization Iteration:  18401, Training Accuracy:  43.8%\n",
      "Optimization Iteration:  18501, Training Accuracy:  37.5%\n",
      "Optimization Iteration:  18601, Training Accuracy:  43.8%\n",
      "Optimization Iteration:  18701, Training Accuracy:  28.1%\n",
      "Optimization Iteration:  18801, Training Accuracy:  34.4%\n",
      "Optimization Iteration:  18901, Training Accuracy:  15.6%\n",
      "Optimization Iteration:  19001, Training Accuracy:  37.5%\n",
      "Saved checkpoint.\n",
      "Optimization Iteration:  19101, Training Accuracy:  40.6%\n",
      "Optimization Iteration:  19201, Training Accuracy:  50.0%\n",
      "Optimization Iteration:  19301, Training Accuracy:  25.0%\n",
      "Optimization Iteration:  19401, Training Accuracy:  25.0%\n",
      "Optimization Iteration:  19501, Training Accuracy:  34.4%\n",
      "Optimization Iteration:  19601, Training Accuracy:  37.5%\n",
      "Optimization Iteration:  19701, Training Accuracy:  40.6%\n",
      "Optimization Iteration:  19801, Training Accuracy:  34.4%\n",
      "Optimization Iteration:  19901, Training Accuracy:  31.2%\n",
      "Time usage: 0:04:52\n"
     ]
    }
   ],
   "source": [
    "# Performance after 20000 optimization iterations\n",
    "training(num_iterations=20000)"
   ]
  },
  {
   "cell_type": "code",
   "execution_count": 67,
   "metadata": {},
   "outputs": [
    {
     "name": "stdout",
     "output_type": "stream",
     "text": [
      "Accuracy on Test-Set: 41.9% (1504 / 3589)\n",
      "\n",
      "Example errors:\n"
     ]
    },
    {
     "data": {
      "image/png": "[encoded data removed]",
      "text/plain": [
       "<matplotlib.figure.Figure at 0x7fcd9f513d30>"
      ]
     },
     "metadata": {},
     "output_type": "display_data"
    },
    {
     "name": "stdout",
     "output_type": "stream",
     "text": [
      "Confusion Matrix:\n"
     ]
    },
    {
     "data": {
      "image/png": "[encoded data removed]",
      "text/plain": [
       "<matplotlib.figure.Figure at 0x7fcd9f526b38>"
      ]
     },
     "metadata": {},
     "output_type": "display_data"
    }
   ],
   "source": [
    "test(show_example_errors=True,\n",
    "     show_confusion_matrix=True)"
   ]
  },
  {
   "cell_type": "code",
   "execution_count": 68,
   "metadata": {
    "collapsed": true
   },
   "outputs": [],
   "source": [
    "# Close session\n",
    "session.close()"
   ]
  }
 ],
 "metadata": {
  "anaconda-cloud": {},
  "kernelspec": {
   "display_name": "Python 2",
   "language": "python",
   "name": "python2"
  },
  "language_info": {
   "codemirror_mode": {
    "name": "ipython",
    "version": 2
   },
   "file_extension": ".py",
   "mimetype": "text/x-python",
   "name": "python",
   "nbconvert_exporter": "python",
   "pygments_lexer": "ipython2",
   "version": "2.7.12"
  }
 },
 "nbformat": 4,
 "nbformat_minor": 1
}
